{
 "cells": [
  {
   "cell_type": "code",
   "execution_count": 1,
   "metadata": {},
   "outputs": [],
   "source": [
    "import os\n",
    "import cv2\n",
    "import tensorflow as tf\n",
    "from tensorflow import keras\n",
    "import gradio\n",
    "import gradio as gr"
   ]
  },
  {
   "cell_type": "code",
   "execution_count": 2,
   "metadata": {},
   "outputs": [],
   "source": [
    "model_dir = r'C:\\Users\\PC\\Cookies\\Desktop\\image_classification\\model'\n",
    "model1 = os.path.join(model_dir, \"model1.h5\")"
   ]
  },
  {
   "cell_type": "code",
   "execution_count": 3,
   "metadata": {},
   "outputs": [],
   "source": [
    "model = keras.models.load_model(model1, compile=False)"
   ]
  },
  {
   "cell_type": "code",
   "execution_count": 4,
   "metadata": {},
   "outputs": [
    {
     "name": "stderr",
     "output_type": "stream",
     "text": [
      "c:\\Users\\PC\\miniconda3\\envs\\myenv\\lib\\site-packages\\gradio\\inputs.py:256: UserWarning: Usage of gradio.inputs is deprecated, and will not be supported in the future, please import your component from gradio.components\n",
      "  warnings.warn(\n",
      "c:\\Users\\PC\\miniconda3\\envs\\myenv\\lib\\site-packages\\gradio\\deprecation.py:40: UserWarning: `optional` parameter is deprecated, and it has no effect\n",
      "  warnings.warn(value)\n",
      "c:\\Users\\PC\\miniconda3\\envs\\myenv\\lib\\site-packages\\gradio\\outputs.py:196: UserWarning: Usage of gradio.outputs is deprecated, and will not be supported in the future, please import your components from gradio.components\n",
      "  warnings.warn(\n",
      "c:\\Users\\PC\\miniconda3\\envs\\myenv\\lib\\site-packages\\gradio\\deprecation.py:40: UserWarning: The 'type' parameter has been deprecated. Use the Number component instead.\n",
      "  warnings.warn(value)\n"
     ]
    },
    {
     "name": "stdout",
     "output_type": "stream",
     "text": [
      "IMPORTANT: You are using gradio version 3.13.0, however version 3.14.0 is available, please upgrade.\n",
      "--------\n",
      "Hint: Set streaming=True for Image component to use live streaming.\n",
      "Running on local URL:  http://127.0.0.1:7860\n",
      "Running on public URL: https://2828028a8ef242fd.gradio.app\n",
      "\n",
      "This share link expires in 72 hours. For free permanent hosting and GPU upgrades (NEW!), check out Spaces: https://huggingface.co/spaces\n"
     ]
    },
    {
     "data": {
      "text/html": [
       "<div><iframe src=\"https://2828028a8ef242fd.gradio.app\" width=\"100%\" height=\"500\" allow=\"autoplay; camera; microphone; clipboard-read; clipboard-write;\" frameborder=\"0\" allowfullscreen></iframe></div>"
      ],
      "text/plain": [
       "<IPython.core.display.HTML object>"
      ]
     },
     "metadata": {},
     "output_type": "display_data"
    },
    {
     "data": {
      "text/plain": []
     },
     "execution_count": 4,
     "metadata": {},
     "output_type": "execute_result"
    },
    {
     "name": "stdout",
     "output_type": "stream",
     "text": [
      "(224, 224, 3)\n",
      "1/1 [==============================] - 3s 3s/step\n",
      "(224, 224, 3)\n",
      "1/1 [==============================] - 0s 177ms/step\n"
     ]
    }
   ],
   "source": [
    "#function to make predictions\n",
    "def mole_detect(img):\n",
    "    print(img.shape)\n",
    "    img = img.reshape(-1,224,224,3)\n",
    "    prediction = model.predict(img).tolist()[0]\n",
    "    class_names = [\"Actinic keratoses\", \"Basal cell carcinoma\", \"Benign keratosis-like lesions\", \"Dermatofibroma\", \"Melanocytic nevi\", \"Melanoma\", \"Vascular lesions\"]\n",
    "    return {class_names[i]: prediction[i] for i in range(7)}\n",
    "\n",
    "im = gradio.inputs.Image(shape=(224,224), image_mode='RGB', invert_colors=False, source=\"upload\")\n",
    "#the interface\n",
    "iface = gr.Interface(\n",
    "    fn = mole_detect, \n",
    "    inputs = im, \n",
    "    live = True,\n",
    "    outputs = gradio.outputs.Label(),\n",
    ")\n",
    "iface.launch(share=True)"
   ]
  }
 ],
 "metadata": {
  "kernelspec": {
   "display_name": "myenv",
   "language": "python",
   "name": "python3"
  },
  "language_info": {
   "codemirror_mode": {
    "name": "ipython",
    "version": 3
   },
   "file_extension": ".py",
   "mimetype": "text/x-python",
   "name": "python",
   "nbconvert_exporter": "python",
   "pygments_lexer": "ipython3",
   "version": "3.10.8"
  },
  "orig_nbformat": 4,
  "vscode": {
   "interpreter": {
    "hash": "b5df138a7e4147c629cb640e0df293e1a19be350616532fed2d54952a62a127a"
   }
  }
 },
 "nbformat": 4,
 "nbformat_minor": 2
}
