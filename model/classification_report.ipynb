{
 "cells": [
  {
   "cell_type": "code",
   "execution_count": 1,
   "metadata": {},
   "outputs": [],
   "source": [
    "import os\n",
    "import shutil\n",
    "import cv2\n",
    "import gc\n",
    "import keras\n",
    "import numpy as np\n",
    "import pandas as pd\n",
    "from keras.applications.mobilenet import MobileNet\n",
    "from keras.callbacks import EarlyStopping, ModelCheckpoint, ReduceLROnPlateau\n",
    "from keras.layers import (BatchNormalization, Dense, Dropout, Flatten)\n",
    "from keras.metrics import categorical_accuracy, top_k_categorical_accuracy\n",
    "from keras.models import Sequential\n",
    "from keras.preprocessing.image import ImageDataGenerator\n",
    "from keras.optimizers import Adam\n",
    "from matplotlib import pyplot as plt\n",
    "import sklearn.metrics as metrics\n",
    "from sklearn.metrics import confusion_matrix, f1_score, classification_report\n",
    "from sklearn.model_selection import train_test_split\n",
    "import gradio\n",
    "import gradio as gr"
   ]
  },
  {
   "cell_type": "code",
   "execution_count": 2,
   "metadata": {},
   "outputs": [
    {
     "data": {
      "text/html": [
       "<div>\n",
       "<style scoped>\n",
       "    .dataframe tbody tr th:only-of-type {\n",
       "        vertical-align: middle;\n",
       "    }\n",
       "\n",
       "    .dataframe tbody tr th {\n",
       "        vertical-align: top;\n",
       "    }\n",
       "\n",
       "    .dataframe thead th {\n",
       "        text-align: right;\n",
       "    }\n",
       "</style>\n",
       "<table border=\"1\" class=\"dataframe\">\n",
       "  <thead>\n",
       "    <tr style=\"text-align: right;\">\n",
       "      <th></th>\n",
       "      <th>lesion_id</th>\n",
       "      <th>image_id</th>\n",
       "      <th>dx</th>\n",
       "      <th>dx_type</th>\n",
       "      <th>age</th>\n",
       "      <th>sex</th>\n",
       "      <th>localization</th>\n",
       "    </tr>\n",
       "  </thead>\n",
       "  <tbody>\n",
       "    <tr>\n",
       "      <th>0</th>\n",
       "      <td>HAM_0000118</td>\n",
       "      <td>ISIC_0027419</td>\n",
       "      <td>bkl</td>\n",
       "      <td>histo</td>\n",
       "      <td>80.0</td>\n",
       "      <td>male</td>\n",
       "      <td>scalp</td>\n",
       "    </tr>\n",
       "    <tr>\n",
       "      <th>1</th>\n",
       "      <td>HAM_0000118</td>\n",
       "      <td>ISIC_0025030</td>\n",
       "      <td>bkl</td>\n",
       "      <td>histo</td>\n",
       "      <td>80.0</td>\n",
       "      <td>male</td>\n",
       "      <td>scalp</td>\n",
       "    </tr>\n",
       "    <tr>\n",
       "      <th>2</th>\n",
       "      <td>HAM_0002730</td>\n",
       "      <td>ISIC_0026769</td>\n",
       "      <td>bkl</td>\n",
       "      <td>histo</td>\n",
       "      <td>80.0</td>\n",
       "      <td>male</td>\n",
       "      <td>scalp</td>\n",
       "    </tr>\n",
       "    <tr>\n",
       "      <th>3</th>\n",
       "      <td>HAM_0002730</td>\n",
       "      <td>ISIC_0025661</td>\n",
       "      <td>bkl</td>\n",
       "      <td>histo</td>\n",
       "      <td>80.0</td>\n",
       "      <td>male</td>\n",
       "      <td>scalp</td>\n",
       "    </tr>\n",
       "    <tr>\n",
       "      <th>4</th>\n",
       "      <td>HAM_0001466</td>\n",
       "      <td>ISIC_0031633</td>\n",
       "      <td>bkl</td>\n",
       "      <td>histo</td>\n",
       "      <td>75.0</td>\n",
       "      <td>male</td>\n",
       "      <td>ear</td>\n",
       "    </tr>\n",
       "  </tbody>\n",
       "</table>\n",
       "</div>"
      ],
      "text/plain": [
       "     lesion_id      image_id   dx dx_type   age   sex localization\n",
       "0  HAM_0000118  ISIC_0027419  bkl   histo  80.0  male        scalp\n",
       "1  HAM_0000118  ISIC_0025030  bkl   histo  80.0  male        scalp\n",
       "2  HAM_0002730  ISIC_0026769  bkl   histo  80.0  male        scalp\n",
       "3  HAM_0002730  ISIC_0025661  bkl   histo  80.0  male        scalp\n",
       "4  HAM_0001466  ISIC_0031633  bkl   histo  75.0  male          ear"
      ]
     },
     "execution_count": 2,
     "metadata": {},
     "output_type": "execute_result"
    }
   ],
   "source": [
    "metadata = pd.read_csv(r\"C:\\Users\\PC\\Cookies\\Desktop\\image_classification_maysa\\archive (5)\\HAM10000_metadata.csv\")\n",
    "metadata.head()"
   ]
  },
  {
   "cell_type": "code",
   "execution_count": 3,
   "metadata": {},
   "outputs": [
    {
     "data": {
      "text/plain": [
       "nv       0.669496\n",
       "mel      0.111133\n",
       "bkl      0.109735\n",
       "bcc      0.051323\n",
       "akiec    0.032651\n",
       "vasc     0.014179\n",
       "df       0.011483\n",
       "Name: dx, dtype: float64"
      ]
     },
     "execution_count": 3,
     "metadata": {},
     "output_type": "execute_result"
    }
   ],
   "source": [
    "metadata[\"dx\"].value_counts() / metadata.shape[0]"
   ]
  },
  {
   "cell_type": "code",
   "execution_count": 14,
   "metadata": {},
   "outputs": [
    {
     "name": "stdout",
     "output_type": "stream",
     "text": [
      "(450, 600, 3)\n"
     ]
    }
   ],
   "source": [
    "image_sample = cv2.imread(r\"C:\\Users\\PC\\Cookies\\Desktop\\image_classification\\archive (5)\\HAM10000_images_part_1\\ISIC_0024306.jpg\")\n",
    "print(image_sample.shape)"
   ]
  },
  {
   "cell_type": "code",
   "execution_count": 5,
   "metadata": {},
   "outputs": [],
   "source": [
    "lesion_id_cnt = metadata[\"lesion_id\"].value_counts()\n",
    "def check_duplicates(id):\n",
    "    \n",
    "    if lesion_id_cnt[id] > 1:\n",
    "        return True\n",
    "    else:\n",
    "        return False\n",
    "\n",
    "metadata[\"has_duplicate\"] = metadata[\"lesion_id\"].map(check_duplicates)"
   ]
  },
  {
   "cell_type": "code",
   "execution_count": 15,
   "metadata": {},
   "outputs": [
    {
     "data": {
      "text/plain": [
       "False    5514\n",
       "True     4501\n",
       "Name: has_duplicate, dtype: int64"
      ]
     },
     "execution_count": 15,
     "metadata": {},
     "output_type": "execute_result"
    }
   ],
   "source": [
    "metadata[\"has_duplicate\"].value_counts()"
   ]
  },
  {
   "cell_type": "code",
   "execution_count": 16,
   "metadata": {},
   "outputs": [],
   "source": [
    "image_folder_1 = r\"C:\\Users\\PC\\Cookies\\Desktop\\image_classification\\archive (5)\\HAM10000_images_part_1\"\n",
    "image_folder_2 = r\"C:\\Users\\PC\\Cookies\\Desktop\\image_classification\\archive (5)\\HAM10000_images_part_2\"\n",
    "metadata[\"folder\"] = 0\n",
    "metadata.set_index(\"image_id\", drop=False, inplace=True)\n",
    "\n",
    "for image in os.listdir(image_folder_1):\n",
    "    image_id = image.split(\".\")[0]\n",
    "    metadata.loc[image_id, \"folder\"] = \"1\"\n",
    "\n",
    "for image in os.listdir(image_folder_2):\n",
    "    image_id = image.split(\".\")[0]\n",
    "    metadata.loc[image_id, \"folder\"] = \"2\""
   ]
  },
  {
   "cell_type": "code",
   "execution_count": 17,
   "metadata": {},
   "outputs": [
    {
     "data": {
      "text/html": [
       "<div>\n",
       "<style scoped>\n",
       "    .dataframe tbody tr th:only-of-type {\n",
       "        vertical-align: middle;\n",
       "    }\n",
       "\n",
       "    .dataframe tbody tr th {\n",
       "        vertical-align: top;\n",
       "    }\n",
       "\n",
       "    .dataframe thead th {\n",
       "        text-align: right;\n",
       "    }\n",
       "</style>\n",
       "<table border=\"1\" class=\"dataframe\">\n",
       "  <thead>\n",
       "    <tr style=\"text-align: right;\">\n",
       "      <th></th>\n",
       "      <th>lesion_id</th>\n",
       "      <th>image_id</th>\n",
       "      <th>dx</th>\n",
       "      <th>dx_type</th>\n",
       "      <th>age</th>\n",
       "      <th>sex</th>\n",
       "      <th>localization</th>\n",
       "      <th>has_duplicate</th>\n",
       "      <th>folder</th>\n",
       "    </tr>\n",
       "    <tr>\n",
       "      <th>image_id</th>\n",
       "      <th></th>\n",
       "      <th></th>\n",
       "      <th></th>\n",
       "      <th></th>\n",
       "      <th></th>\n",
       "      <th></th>\n",
       "      <th></th>\n",
       "      <th></th>\n",
       "      <th></th>\n",
       "    </tr>\n",
       "  </thead>\n",
       "  <tbody>\n",
       "    <tr>\n",
       "      <th>ISIC_0027419</th>\n",
       "      <td>HAM_0000118</td>\n",
       "      <td>ISIC_0027419</td>\n",
       "      <td>bkl</td>\n",
       "      <td>histo</td>\n",
       "      <td>80.0</td>\n",
       "      <td>male</td>\n",
       "      <td>scalp</td>\n",
       "      <td>True</td>\n",
       "      <td>1</td>\n",
       "    </tr>\n",
       "    <tr>\n",
       "      <th>ISIC_0025030</th>\n",
       "      <td>HAM_0000118</td>\n",
       "      <td>ISIC_0025030</td>\n",
       "      <td>bkl</td>\n",
       "      <td>histo</td>\n",
       "      <td>80.0</td>\n",
       "      <td>male</td>\n",
       "      <td>scalp</td>\n",
       "      <td>True</td>\n",
       "      <td>1</td>\n",
       "    </tr>\n",
       "    <tr>\n",
       "      <th>ISIC_0026769</th>\n",
       "      <td>HAM_0002730</td>\n",
       "      <td>ISIC_0026769</td>\n",
       "      <td>bkl</td>\n",
       "      <td>histo</td>\n",
       "      <td>80.0</td>\n",
       "      <td>male</td>\n",
       "      <td>scalp</td>\n",
       "      <td>True</td>\n",
       "      <td>1</td>\n",
       "    </tr>\n",
       "    <tr>\n",
       "      <th>ISIC_0025661</th>\n",
       "      <td>HAM_0002730</td>\n",
       "      <td>ISIC_0025661</td>\n",
       "      <td>bkl</td>\n",
       "      <td>histo</td>\n",
       "      <td>80.0</td>\n",
       "      <td>male</td>\n",
       "      <td>scalp</td>\n",
       "      <td>True</td>\n",
       "      <td>1</td>\n",
       "    </tr>\n",
       "    <tr>\n",
       "      <th>ISIC_0031633</th>\n",
       "      <td>HAM_0001466</td>\n",
       "      <td>ISIC_0031633</td>\n",
       "      <td>bkl</td>\n",
       "      <td>histo</td>\n",
       "      <td>75.0</td>\n",
       "      <td>male</td>\n",
       "      <td>ear</td>\n",
       "      <td>True</td>\n",
       "      <td>2</td>\n",
       "    </tr>\n",
       "  </tbody>\n",
       "</table>\n",
       "</div>"
      ],
      "text/plain": [
       "                lesion_id      image_id   dx dx_type   age   sex localization  \\\n",
       "image_id                                                                        \n",
       "ISIC_0027419  HAM_0000118  ISIC_0027419  bkl   histo  80.0  male        scalp   \n",
       "ISIC_0025030  HAM_0000118  ISIC_0025030  bkl   histo  80.0  male        scalp   \n",
       "ISIC_0026769  HAM_0002730  ISIC_0026769  bkl   histo  80.0  male        scalp   \n",
       "ISIC_0025661  HAM_0002730  ISIC_0025661  bkl   histo  80.0  male        scalp   \n",
       "ISIC_0031633  HAM_0001466  ISIC_0031633  bkl   histo  75.0  male          ear   \n",
       "\n",
       "              has_duplicate folder  \n",
       "image_id                            \n",
       "ISIC_0027419           True      1  \n",
       "ISIC_0025030           True      1  \n",
       "ISIC_0026769           True      1  \n",
       "ISIC_0025661           True      1  \n",
       "ISIC_0031633           True      2  "
      ]
     },
     "execution_count": 17,
     "metadata": {},
     "output_type": "execute_result"
    }
   ],
   "source": [
    "metadata.head()"
   ]
  },
  {
   "cell_type": "code",
   "execution_count": 18,
   "metadata": {},
   "outputs": [
    {
     "name": "stdout",
     "output_type": "stream",
     "text": [
      "Train: 0.801697453819271\n",
      "Validation: 0.09915127309036445\n",
      "Test: 0.09915127309036445\n"
     ]
    }
   ],
   "source": [
    "data_train_no_dup, data_val = train_test_split(metadata[metadata[\"has_duplicate\"] == False], test_size=0.36, stratify=metadata[metadata[\"has_duplicate\"] == False][\"dx\"]) # 36% of the data with no duplicates is roughly 20% of the total\n",
    "data_train = pd.concat((data_train_no_dup, metadata[metadata[\"has_duplicate\"] == True]), axis=0)\n",
    "data_val, data_test = train_test_split(data_val, test_size=0.5, stratify=data_val[\"dx\"])\n",
    "print(\"Train: \" + str(data_train.shape[0] / metadata.shape[0]))\n",
    "print(\"Validation: \" + str(data_val.shape[0] / metadata.shape[0]))\n",
    "print(\"Test: \" + str(data_test.shape[0] / metadata.shape[0]))\n",
    "val_len = data_val.shape[0]\n",
    "test_len = data_test.shape[0]"
   ]
  },
  {
   "cell_type": "code",
   "execution_count": 19,
   "metadata": {},
   "outputs": [],
   "source": [
    "base_dir = r\"C:\\Users\\PC\\Cookies\\Desktop\\image_classification\\base_dir\"\n",
    "#os.mkdir(base_dir)\n",
    "\n",
    "train_dir = os.path.join(base_dir, \"image_train\")\n",
    "#os.mkdir(train_dir)\n",
    "\n",
    "val_dir = os.path.join(base_dir, \"image_val\")\n",
    "#os.mkdir(val_dir)\n",
    "\n",
    "test_dir = os.path.join(base_dir, \"image_test\")\n",
    "#os.mkdir(test_dir)\n",
    "\n",
    "labels = list(metadata[\"dx\"].unique())\n",
    "\n",
    "for label in labels:\n",
    "    label_path_train = os.path.join(train_dir, label)\n",
    "    #os.mkdir(label_path_train)\n",
    "    label_path_val = os.path.join(val_dir, label)\n",
    "    #os.mkdir(label_path_val)\n",
    "    label_path_test = os.path.join(test_dir, label)\n",
    "    #os.mkdir(label_path_test)"
   ]
  },
  {
   "cell_type": "code",
   "execution_count": 20,
   "metadata": {},
   "outputs": [],
   "source": [
    "image_dir = r\"C:\\Users\\PC\\Cookies\\Desktop\\image_classification\\archive (5)\\HAM10000_images_part_\"\n",
    "\n",
    "for i in range(data_train.shape[0]):\n",
    "    image_name = data_train[\"image_id\"][i] + \".jpg\"\n",
    "    src_dir = os.path.join(image_dir + data_train[\"folder\"][i], image_name)\n",
    "    dst_dir = os.path.join(train_dir, data_train[\"dx\"][i], image_name)\n",
    "    shutil.copyfile(src_dir, dst_dir)\n",
    "\n",
    "for i in range(data_val.shape[0]):\n",
    "    image_name = data_val[\"image_id\"][i] + \".jpg\"\n",
    "    src_dir = os.path.join(image_dir + data_val[\"folder\"][i], image_name)\n",
    "    dst_dir = os.path.join(val_dir, data_val[\"dx\"][i], image_name)\n",
    "    shutil.copyfile(src_dir, dst_dir)\n",
    "    \n",
    "for i in range(data_test.shape[0]):\n",
    "    image_name = data_test[\"image_id\"][i] + \".jpg\"\n",
    "    src_dir = os.path.join(image_dir + data_test[\"folder\"][i], image_name)\n",
    "    dst_dir = os.path.join(test_dir, data_test[\"dx\"][i], image_name)\n",
    "    shutil.copyfile(src_dir, dst_dir)"
   ]
  },
  {
   "cell_type": "code",
   "execution_count": 21,
   "metadata": {},
   "outputs": [
    {
     "name": "stdout",
     "output_type": "stream",
     "text": [
      "bkl train: 5986\n",
      "nv train: 6996\n",
      "df train: 4754\n",
      "mel train: 5937\n",
      "vasc train: 5584\n",
      "bcc train: 5710\n",
      "akiec train: 5719\n",
      "\n",
      "\n",
      "bkl val: 141\n",
      "nv val: 1463\n",
      "df val: 13\n",
      "mel val: 71\n",
      "vasc val: 20\n",
      "bcc val: 58\n",
      "akiec val: 51\n",
      "\n",
      "\n",
      "bkl val: 141\n",
      "nv val: 1444\n",
      "df val: 11\n",
      "mel val: 74\n",
      "vasc val: 23\n",
      "bcc val: 56\n",
      "akiec val: 50\n"
     ]
    }
   ],
   "source": [
    "for label in labels:\n",
    "    print(label + \" train: \" + str(len(os.listdir(os.path.join(train_dir, label)))))\n",
    "print(\"\\n\")\n",
    "for label in labels:\n",
    "    print(label + \" val: \" + str(len(os.listdir(os.path.join(val_dir, label)))))\n",
    "print(\"\\n\")\n",
    "for label in labels:\n",
    "    print(label + \" val: \" + str(len(os.listdir(os.path.join(test_dir, label)))))"
   ]
  },
  {
   "cell_type": "code",
   "execution_count": null,
   "metadata": {},
   "outputs": [],
   "source": [
    "#del data_train_no_dup, metadata\n",
    "#gc.collect()"
   ]
  },
  {
   "cell_type": "code",
   "execution_count": 22,
   "metadata": {},
   "outputs": [
    {
     "name": "stdout",
     "output_type": "stream",
     "text": [
      "C:\\Users\\PC\\Cookies\\Desktop\\image_classification\\base_dir\\aug_dir\n"
     ]
    },
    {
     "ename": "FileNotFoundError",
     "evalue": "[Errno 2] No such file or directory: 'C:\\\\Users\\\\PC\\\\Cookies\\\\Desktop\\\\image_classification\\\\base_dir\\\\aug_dir\\\\aug_img\\\\ISIC_0024312.jpg'",
     "output_type": "error",
     "traceback": [
      "\u001b[1;31m---------------------------------------------------------------------------\u001b[0m",
      "\u001b[1;31mFileNotFoundError\u001b[0m                         Traceback (most recent call last)",
      "Cell \u001b[1;32mIn[22], line 23\u001b[0m\n\u001b[0;32m     21\u001b[0m src_dir_label \u001b[39m=\u001b[39m os\u001b[39m.\u001b[39mpath\u001b[39m.\u001b[39mjoin(train_dir, label)\n\u001b[0;32m     22\u001b[0m \u001b[39mfor\u001b[39;00m image_name \u001b[39min\u001b[39;00m os\u001b[39m.\u001b[39mlistdir(src_dir_label):\n\u001b[1;32m---> 23\u001b[0m     shutil\u001b[39m.\u001b[39;49mcopy(os\u001b[39m.\u001b[39;49mpath\u001b[39m.\u001b[39;49mjoin(src_dir_label, image_name), os\u001b[39m.\u001b[39;49mpath\u001b[39m.\u001b[39;49mjoin(img_dir, image_name))\n\u001b[0;32m     25\u001b[0m batch_size \u001b[39m=\u001b[39m \u001b[39m32\u001b[39m\n\u001b[0;32m     26\u001b[0m data_flow_param \u001b[39m=\u001b[39m {\n\u001b[0;32m     27\u001b[0m     \u001b[39m\"\u001b[39m\u001b[39mdirectory\u001b[39m\u001b[39m\"\u001b[39m: aug_dir,\n\u001b[0;32m     28\u001b[0m     \u001b[39m\"\u001b[39m\u001b[39mcolor_mode\u001b[39m\u001b[39m\"\u001b[39m: \u001b[39m\"\u001b[39m\u001b[39mrgb\u001b[39m\u001b[39m\"\u001b[39m,\n\u001b[1;32m   (...)\u001b[0m\n\u001b[0;32m     32\u001b[0m     \u001b[39m\"\u001b[39m\u001b[39msave_format\u001b[39m\u001b[39m\"\u001b[39m: \u001b[39m\"\u001b[39m\u001b[39mjpg\u001b[39m\u001b[39m\"\u001b[39m\n\u001b[0;32m     33\u001b[0m }\n",
      "File \u001b[1;32mc:\\Users\\PC\\miniconda3\\envs\\myenv\\lib\\shutil.py:417\u001b[0m, in \u001b[0;36mcopy\u001b[1;34m(src, dst, follow_symlinks)\u001b[0m\n\u001b[0;32m    415\u001b[0m \u001b[39mif\u001b[39;00m os\u001b[39m.\u001b[39mpath\u001b[39m.\u001b[39misdir(dst):\n\u001b[0;32m    416\u001b[0m     dst \u001b[39m=\u001b[39m os\u001b[39m.\u001b[39mpath\u001b[39m.\u001b[39mjoin(dst, os\u001b[39m.\u001b[39mpath\u001b[39m.\u001b[39mbasename(src))\n\u001b[1;32m--> 417\u001b[0m copyfile(src, dst, follow_symlinks\u001b[39m=\u001b[39;49mfollow_symlinks)\n\u001b[0;32m    418\u001b[0m copymode(src, dst, follow_symlinks\u001b[39m=\u001b[39mfollow_symlinks)\n\u001b[0;32m    419\u001b[0m \u001b[39mreturn\u001b[39;00m dst\n",
      "File \u001b[1;32mc:\\Users\\PC\\miniconda3\\envs\\myenv\\lib\\shutil.py:256\u001b[0m, in \u001b[0;36mcopyfile\u001b[1;34m(src, dst, follow_symlinks)\u001b[0m\n\u001b[0;32m    254\u001b[0m \u001b[39mwith\u001b[39;00m \u001b[39mopen\u001b[39m(src, \u001b[39m'\u001b[39m\u001b[39mrb\u001b[39m\u001b[39m'\u001b[39m) \u001b[39mas\u001b[39;00m fsrc:\n\u001b[0;32m    255\u001b[0m     \u001b[39mtry\u001b[39;00m:\n\u001b[1;32m--> 256\u001b[0m         \u001b[39mwith\u001b[39;00m \u001b[39mopen\u001b[39;49m(dst, \u001b[39m'\u001b[39;49m\u001b[39mwb\u001b[39;49m\u001b[39m'\u001b[39;49m) \u001b[39mas\u001b[39;00m fdst:\n\u001b[0;32m    257\u001b[0m             \u001b[39m# macOS\u001b[39;00m\n\u001b[0;32m    258\u001b[0m             \u001b[39mif\u001b[39;00m _HAS_FCOPYFILE:\n\u001b[0;32m    259\u001b[0m                 \u001b[39mtry\u001b[39;00m:\n",
      "\u001b[1;31mFileNotFoundError\u001b[0m: [Errno 2] No such file or directory: 'C:\\\\Users\\\\PC\\\\Cookies\\\\Desktop\\\\image_classification\\\\base_dir\\\\aug_dir\\\\aug_img\\\\ISIC_0024312.jpg'"
     ]
    }
   ],
   "source": [
    "data_gen_param = {\n",
    "    \"rotation_range\": 180,\n",
    "    \"width_shift_range\": 0.1,\n",
    "    \"height_shift_range\": 0.1,\n",
    "    \"zoom_range\": 0.1,\n",
    "    \"horizontal_flip\": True,\n",
    "    \"vertical_flip\": True\n",
    "}\n",
    "data_generator = ImageDataGenerator(**data_gen_param)\n",
    "num_images_each_label = 6000\n",
    "\n",
    "aug_dir = os.path.join(base_dir, \"aug_dir\")\n",
    "print(os.path.abspath(aug_dir))\n",
    "#os.mkdir(aug_dir)\n",
    "\n",
    "for label in labels:\n",
    "    \n",
    "    img_dir = os.path.join(aug_dir, \"aug_img\")\n",
    "    #os.mkdir(img_dir)\n",
    "    \n",
    "    src_dir_label = os.path.join(train_dir, label)\n",
    "    for image_name in os.listdir(src_dir_label):\n",
    "        shutil.copy(os.path.join(src_dir_label, image_name), os.path.join(img_dir, image_name))\n",
    "    \n",
    "    batch_size = 32\n",
    "    data_flow_param = {\n",
    "        \"directory\": aug_dir,\n",
    "        \"color_mode\": \"rgb\",\n",
    "        \"batch_size\": batch_size,\n",
    "        \"shuffle\": True,\n",
    "        \"save_to_dir\": os.path.join(train_dir, label),\n",
    "        \"save_format\": \"jpg\"\n",
    "    }\n",
    "    aug_data_gen = data_generator.flow_from_directory(**data_flow_param)\n",
    "    \n",
    "    num_img_aug = num_images_each_label - len(os.listdir(os.path.join(train_dir, label)))\n",
    "    num_batch = int(num_img_aug / batch_size)\n",
    "    \n",
    "    for i in range(0, num_batch):\n",
    "        next(aug_data_gen)\n",
    "    \n",
    "    shutil.rmtree(img_dir)"
   ]
  },
  {
   "cell_type": "code",
   "execution_count": 23,
   "metadata": {},
   "outputs": [
    {
     "name": "stdout",
     "output_type": "stream",
     "text": [
      "bkl train: 5986\n",
      "nv train: 6996\n",
      "df train: 4754\n",
      "mel train: 5937\n",
      "vasc train: 5584\n",
      "bcc train: 5710\n",
      "akiec train: 5719\n",
      "\n",
      "\n",
      "bkl val: 141\n",
      "nv val: 1463\n",
      "df val: 13\n",
      "mel val: 71\n",
      "vasc val: 20\n",
      "bcc val: 58\n",
      "akiec val: 51\n"
     ]
    }
   ],
   "source": [
    "for label in labels:\n",
    "    print(label + \" train: \" + str(len(os.listdir(os.path.join(train_dir, label)))))\n",
    "print(\"\\n\")\n",
    "for label in labels:\n",
    "    print(label + \" val: \" + str(len(os.listdir(os.path.join(val_dir, label)))))"
   ]
  },
  {
   "cell_type": "code",
   "execution_count": 25,
   "metadata": {},
   "outputs": [
    {
     "name": "stdout",
     "output_type": "stream",
     "text": [
      "Found 40686 images belonging to 7 classes.\n",
      "Found 1817 images belonging to 7 classes.\n",
      "Found 1799 images belonging to 7 classes.\n"
     ]
    }
   ],
   "source": [
    "batch_size = 32\n",
    "IMAGE_SHAPE = (224, 224, 3)\n",
    "data_gen_param = {\n",
    "    \"samplewise_center\": True,\n",
    "    \"samplewise_std_normalization\": True,\n",
    "    \"rotation_range\": 180,\n",
    "    \"width_shift_range\": 0.1,\n",
    "    \"height_shift_range\": 0.1,\n",
    "    \"zoom_range\": 0.1,\n",
    "    \"horizontal_flip\": True,\n",
    "    \"vertical_flip\": True,\n",
    "    \"rescale\": 1.0 / 255\n",
    "}\n",
    "data_generator = ImageDataGenerator(**data_gen_param)\n",
    "\n",
    "train_flow_param = {\n",
    "    \"directory\": train_dir,\n",
    "    \"batch_size\": batch_size,\n",
    "    \"target_size\": IMAGE_SHAPE[:2],\n",
    "    \"shuffle\": True\n",
    "}\n",
    "train_flow = data_generator.flow_from_directory(**train_flow_param)\n",
    "\n",
    "val_flow_param = {\n",
    "    \"directory\": val_dir,\n",
    "    \"batch_size\": batch_size,\n",
    "    \"target_size\": IMAGE_SHAPE[:2],\n",
    "    \"shuffle\": False\n",
    "}\n",
    "val_flow = data_generator.flow_from_directory(**val_flow_param)\n",
    "\n",
    "test_flow_param = {\n",
    "    \"directory\": test_dir,\n",
    "    \"batch_size\": 1,\n",
    "    \"target_size\": IMAGE_SHAPE[:2],\n",
    "    \"shuffle\": False\n",
    "}\n",
    "test_flow = data_generator.flow_from_directory(**test_flow_param)"
   ]
  },
  {
   "cell_type": "code",
   "execution_count": 26,
   "metadata": {},
   "outputs": [],
   "source": [
    "model_dir = r'C:\\Users\\PC\\Cookies\\Desktop\\image_classification\\model'\n",
    "model1 = os.path.join(model_dir, \"model1.h5\")"
   ]
  },
  {
   "cell_type": "code",
   "execution_count": 27,
   "metadata": {},
   "outputs": [],
   "source": [
    "model = keras.models.load_model(model1 , compile=False)"
   ]
  },
  {
   "cell_type": "code",
   "execution_count": 28,
   "metadata": {},
   "outputs": [],
   "source": [
    "model.compile()"
   ]
  },
  {
   "cell_type": "code",
   "execution_count": 29,
   "metadata": {},
   "outputs": [
    {
     "name": "stderr",
     "output_type": "stream",
     "text": [
      "C:\\Users\\PC\\AppData\\Local\\Temp\\ipykernel_10952\\3989983729.py:2: UserWarning: `Model.predict_generator` is deprecated and will be removed in a future version. Please use `Model.predict`, which supports generators.\n",
      "  y_test_pred = np.argmax(model.predict_generator(val_flow, steps = len(val_flow)), axis = 1)\n"
     ]
    }
   ],
   "source": [
    "y_test_true = val_flow.classes\n",
    "y_test_pred = np.argmax(model.predict_generator(val_flow, steps = len(val_flow)), axis = 1)"
   ]
  },
  {
   "cell_type": "code",
   "execution_count": 30,
   "metadata": {},
   "outputs": [
    {
     "name": "stdout",
     "output_type": "stream",
     "text": [
      "              precision    recall  f1-score   support\n",
      "\n",
      "         bkl       0.71      0.33      0.45        51\n",
      "          nv       0.66      0.67      0.67        58\n",
      "          df       0.48      0.35      0.41       141\n",
      "         mel       0.62      0.62      0.62        13\n",
      "        vasc       0.26      0.52      0.34        71\n",
      "         bcc       0.94      0.93      0.93      1463\n",
      "       akiec       0.76      0.95      0.84        20\n",
      "\n",
      "    accuracy                           0.84      1817\n",
      "   macro avg       0.63      0.62      0.61      1817\n",
      "weighted avg       0.86      0.84      0.84      1817\n",
      "\n"
     ]
    }
   ],
   "source": [
    "report = metrics.classification_report(y_test_true , y_test_pred  , target_names=labels)\n",
    "print(report)"
   ]
  }
 ],
 "metadata": {
  "kernelspec": {
   "display_name": "myenv",
   "language": "python",
   "name": "python3"
  },
  "language_info": {
   "codemirror_mode": {
    "name": "ipython",
    "version": 3
   },
   "file_extension": ".py",
   "mimetype": "text/x-python",
   "name": "python",
   "nbconvert_exporter": "python",
   "pygments_lexer": "ipython3",
   "version": "3.10.8"
  },
  "orig_nbformat": 4,
  "vscode": {
   "interpreter": {
    "hash": "b5df138a7e4147c629cb640e0df293e1a19be350616532fed2d54952a62a127a"
   }
  }
 },
 "nbformat": 4,
 "nbformat_minor": 2
}
