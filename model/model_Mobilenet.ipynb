{
 "cells": [
  {
   "cell_type": "code",
   "execution_count": 39,
   "metadata": {},
   "outputs": [],
   "source": [
    "import os\n",
    "import shutil\n",
    "import cv2\n",
    "import gc\n",
    "import keras\n",
    "import numpy as np\n",
    "import pandas as pd\n",
    "from keras.applications.mobilenet import MobileNet\n",
    "from keras.callbacks import EarlyStopping, ModelCheckpoint, ReduceLROnPlateau\n",
    "from keras.layers import (BatchNormalization, Dense, Dropout, Flatten)\n",
    "from keras.metrics import categorical_accuracy, top_k_categorical_accuracy\n",
    "from keras.models import Sequential\n",
    "from keras.preprocessing.image import ImageDataGenerator\n",
    "from keras.optimizers import Adam\n",
    "from matplotlib import pyplot as plt\n",
    "from sklearn.metrics import confusion_matrix, f1_score, classification_report\n",
    "from sklearn.model_selection import train_test_split\n",
    "import gradio\n",
    "import gradio as gr"
   ]
  },
  {
   "cell_type": "code",
   "execution_count": 2,
   "metadata": {},
   "outputs": [
    {
     "data": {
      "text/html": [
       "<div>\n",
       "<style scoped>\n",
       "    .dataframe tbody tr th:only-of-type {\n",
       "        vertical-align: middle;\n",
       "    }\n",
       "\n",
       "    .dataframe tbody tr th {\n",
       "        vertical-align: top;\n",
       "    }\n",
       "\n",
       "    .dataframe thead th {\n",
       "        text-align: right;\n",
       "    }\n",
       "</style>\n",
       "<table border=\"1\" class=\"dataframe\">\n",
       "  <thead>\n",
       "    <tr style=\"text-align: right;\">\n",
       "      <th></th>\n",
       "      <th>lesion_id</th>\n",
       "      <th>image_id</th>\n",
       "      <th>dx</th>\n",
       "      <th>dx_type</th>\n",
       "      <th>age</th>\n",
       "      <th>sex</th>\n",
       "      <th>localization</th>\n",
       "    </tr>\n",
       "  </thead>\n",
       "  <tbody>\n",
       "    <tr>\n",
       "      <th>0</th>\n",
       "      <td>HAM_0000118</td>\n",
       "      <td>ISIC_0027419</td>\n",
       "      <td>bkl</td>\n",
       "      <td>histo</td>\n",
       "      <td>80.0</td>\n",
       "      <td>male</td>\n",
       "      <td>scalp</td>\n",
       "    </tr>\n",
       "    <tr>\n",
       "      <th>1</th>\n",
       "      <td>HAM_0000118</td>\n",
       "      <td>ISIC_0025030</td>\n",
       "      <td>bkl</td>\n",
       "      <td>histo</td>\n",
       "      <td>80.0</td>\n",
       "      <td>male</td>\n",
       "      <td>scalp</td>\n",
       "    </tr>\n",
       "    <tr>\n",
       "      <th>2</th>\n",
       "      <td>HAM_0002730</td>\n",
       "      <td>ISIC_0026769</td>\n",
       "      <td>bkl</td>\n",
       "      <td>histo</td>\n",
       "      <td>80.0</td>\n",
       "      <td>male</td>\n",
       "      <td>scalp</td>\n",
       "    </tr>\n",
       "    <tr>\n",
       "      <th>3</th>\n",
       "      <td>HAM_0002730</td>\n",
       "      <td>ISIC_0025661</td>\n",
       "      <td>bkl</td>\n",
       "      <td>histo</td>\n",
       "      <td>80.0</td>\n",
       "      <td>male</td>\n",
       "      <td>scalp</td>\n",
       "    </tr>\n",
       "    <tr>\n",
       "      <th>4</th>\n",
       "      <td>HAM_0001466</td>\n",
       "      <td>ISIC_0031633</td>\n",
       "      <td>bkl</td>\n",
       "      <td>histo</td>\n",
       "      <td>75.0</td>\n",
       "      <td>male</td>\n",
       "      <td>ear</td>\n",
       "    </tr>\n",
       "  </tbody>\n",
       "</table>\n",
       "</div>"
      ],
      "text/plain": [
       "     lesion_id      image_id   dx dx_type   age   sex localization\n",
       "0  HAM_0000118  ISIC_0027419  bkl   histo  80.0  male        scalp\n",
       "1  HAM_0000118  ISIC_0025030  bkl   histo  80.0  male        scalp\n",
       "2  HAM_0002730  ISIC_0026769  bkl   histo  80.0  male        scalp\n",
       "3  HAM_0002730  ISIC_0025661  bkl   histo  80.0  male        scalp\n",
       "4  HAM_0001466  ISIC_0031633  bkl   histo  75.0  male          ear"
      ]
     },
     "execution_count": 2,
     "metadata": {},
     "output_type": "execute_result"
    }
   ],
   "source": [
    "metadata = pd.read_csv(r\"C:\\Users\\PC\\Cookies\\Desktop\\image_classification\\archive (5)\\HAM10000_metadata.csv\")\n",
    "metadata.head()"
   ]
  },
  {
   "cell_type": "code",
   "execution_count": 3,
   "metadata": {},
   "outputs": [
    {
     "data": {
      "text/plain": [
       "nv       0.669496\n",
       "mel      0.111133\n",
       "bkl      0.109735\n",
       "bcc      0.051323\n",
       "akiec    0.032651\n",
       "vasc     0.014179\n",
       "df       0.011483\n",
       "Name: dx, dtype: float64"
      ]
     },
     "execution_count": 3,
     "metadata": {},
     "output_type": "execute_result"
    }
   ],
   "source": [
    "metadata[\"dx\"].value_counts() / metadata.shape[0]"
   ]
  },
  {
   "cell_type": "code",
   "execution_count": 4,
   "metadata": {},
   "outputs": [
    {
     "name": "stdout",
     "output_type": "stream",
     "text": [
      "(450, 600, 3)\n"
     ]
    }
   ],
   "source": [
    "image_sample = cv2.imread(r\"C:\\Users\\PC\\Cookies\\Desktop\\image_classification\\archive (5)\\HAM10000_images_part_1\\ISIC_0024306.jpg\")\n",
    "print(image_sample.shape)"
   ]
  },
  {
   "cell_type": "code",
   "execution_count": 5,
   "metadata": {},
   "outputs": [],
   "source": [
    "lesion_id_cnt = metadata[\"lesion_id\"].value_counts()\n",
    "def check_duplicates(id):\n",
    "    \n",
    "    if lesion_id_cnt[id] > 1:\n",
    "        return True\n",
    "    else:\n",
    "        return False\n",
    "\n",
    "metadata[\"has_duplicate\"] = metadata[\"lesion_id\"].map(check_duplicates)"
   ]
  },
  {
   "cell_type": "code",
   "execution_count": 6,
   "metadata": {},
   "outputs": [
    {
     "data": {
      "text/plain": [
       "False    5514\n",
       "True     4501\n",
       "Name: has_duplicate, dtype: int64"
      ]
     },
     "execution_count": 6,
     "metadata": {},
     "output_type": "execute_result"
    }
   ],
   "source": [
    "metadata[\"has_duplicate\"].value_counts()"
   ]
  },
  {
   "cell_type": "code",
   "execution_count": 7,
   "metadata": {},
   "outputs": [],
   "source": [
    "image_folder_1 = r\"C:\\Users\\PC\\Cookies\\Desktop\\image_classification\\archive (5)\\HAM10000_images_part_1\"\n",
    "image_folder_2 = r\"C:\\Users\\PC\\Cookies\\Desktop\\image_classification\\archive (5)\\HAM10000_images_part_2\"\n",
    "metadata[\"folder\"] = 0\n",
    "metadata.set_index(\"image_id\", drop=False, inplace=True)\n",
    "\n",
    "for image in os.listdir(image_folder_1):\n",
    "    image_id = image.split(\".\")[0]\n",
    "    metadata.loc[image_id, \"folder\"] = \"1\"\n",
    "\n",
    "for image in os.listdir(image_folder_2):\n",
    "    image_id = image.split(\".\")[0]\n",
    "    metadata.loc[image_id, \"folder\"] = \"2\""
   ]
  },
  {
   "cell_type": "code",
   "execution_count": 8,
   "metadata": {},
   "outputs": [
    {
     "data": {
      "text/html": [
       "<div>\n",
       "<style scoped>\n",
       "    .dataframe tbody tr th:only-of-type {\n",
       "        vertical-align: middle;\n",
       "    }\n",
       "\n",
       "    .dataframe tbody tr th {\n",
       "        vertical-align: top;\n",
       "    }\n",
       "\n",
       "    .dataframe thead th {\n",
       "        text-align: right;\n",
       "    }\n",
       "</style>\n",
       "<table border=\"1\" class=\"dataframe\">\n",
       "  <thead>\n",
       "    <tr style=\"text-align: right;\">\n",
       "      <th></th>\n",
       "      <th>lesion_id</th>\n",
       "      <th>image_id</th>\n",
       "      <th>dx</th>\n",
       "      <th>dx_type</th>\n",
       "      <th>age</th>\n",
       "      <th>sex</th>\n",
       "      <th>localization</th>\n",
       "      <th>has_duplicate</th>\n",
       "      <th>folder</th>\n",
       "    </tr>\n",
       "    <tr>\n",
       "      <th>image_id</th>\n",
       "      <th></th>\n",
       "      <th></th>\n",
       "      <th></th>\n",
       "      <th></th>\n",
       "      <th></th>\n",
       "      <th></th>\n",
       "      <th></th>\n",
       "      <th></th>\n",
       "      <th></th>\n",
       "    </tr>\n",
       "  </thead>\n",
       "  <tbody>\n",
       "    <tr>\n",
       "      <th>ISIC_0027419</th>\n",
       "      <td>HAM_0000118</td>\n",
       "      <td>ISIC_0027419</td>\n",
       "      <td>bkl</td>\n",
       "      <td>histo</td>\n",
       "      <td>80.0</td>\n",
       "      <td>male</td>\n",
       "      <td>scalp</td>\n",
       "      <td>True</td>\n",
       "      <td>1</td>\n",
       "    </tr>\n",
       "    <tr>\n",
       "      <th>ISIC_0025030</th>\n",
       "      <td>HAM_0000118</td>\n",
       "      <td>ISIC_0025030</td>\n",
       "      <td>bkl</td>\n",
       "      <td>histo</td>\n",
       "      <td>80.0</td>\n",
       "      <td>male</td>\n",
       "      <td>scalp</td>\n",
       "      <td>True</td>\n",
       "      <td>1</td>\n",
       "    </tr>\n",
       "    <tr>\n",
       "      <th>ISIC_0026769</th>\n",
       "      <td>HAM_0002730</td>\n",
       "      <td>ISIC_0026769</td>\n",
       "      <td>bkl</td>\n",
       "      <td>histo</td>\n",
       "      <td>80.0</td>\n",
       "      <td>male</td>\n",
       "      <td>scalp</td>\n",
       "      <td>True</td>\n",
       "      <td>1</td>\n",
       "    </tr>\n",
       "    <tr>\n",
       "      <th>ISIC_0025661</th>\n",
       "      <td>HAM_0002730</td>\n",
       "      <td>ISIC_0025661</td>\n",
       "      <td>bkl</td>\n",
       "      <td>histo</td>\n",
       "      <td>80.0</td>\n",
       "      <td>male</td>\n",
       "      <td>scalp</td>\n",
       "      <td>True</td>\n",
       "      <td>1</td>\n",
       "    </tr>\n",
       "    <tr>\n",
       "      <th>ISIC_0031633</th>\n",
       "      <td>HAM_0001466</td>\n",
       "      <td>ISIC_0031633</td>\n",
       "      <td>bkl</td>\n",
       "      <td>histo</td>\n",
       "      <td>75.0</td>\n",
       "      <td>male</td>\n",
       "      <td>ear</td>\n",
       "      <td>True</td>\n",
       "      <td>2</td>\n",
       "    </tr>\n",
       "  </tbody>\n",
       "</table>\n",
       "</div>"
      ],
      "text/plain": [
       "                lesion_id      image_id   dx dx_type   age   sex localization  \\\n",
       "image_id                                                                        \n",
       "ISIC_0027419  HAM_0000118  ISIC_0027419  bkl   histo  80.0  male        scalp   \n",
       "ISIC_0025030  HAM_0000118  ISIC_0025030  bkl   histo  80.0  male        scalp   \n",
       "ISIC_0026769  HAM_0002730  ISIC_0026769  bkl   histo  80.0  male        scalp   \n",
       "ISIC_0025661  HAM_0002730  ISIC_0025661  bkl   histo  80.0  male        scalp   \n",
       "ISIC_0031633  HAM_0001466  ISIC_0031633  bkl   histo  75.0  male          ear   \n",
       "\n",
       "              has_duplicate folder  \n",
       "image_id                            \n",
       "ISIC_0027419           True      1  \n",
       "ISIC_0025030           True      1  \n",
       "ISIC_0026769           True      1  \n",
       "ISIC_0025661           True      1  \n",
       "ISIC_0031633           True      2  "
      ]
     },
     "execution_count": 8,
     "metadata": {},
     "output_type": "execute_result"
    }
   ],
   "source": [
    "metadata.head()"
   ]
  },
  {
   "cell_type": "code",
   "execution_count": 9,
   "metadata": {},
   "outputs": [
    {
     "name": "stdout",
     "output_type": "stream",
     "text": [
      "Train: 0.801697453819271\n",
      "Validation: 0.09915127309036445\n",
      "Test: 0.09915127309036445\n"
     ]
    }
   ],
   "source": [
    "data_train_no_dup, data_val = train_test_split(metadata[metadata[\"has_duplicate\"] == False], test_size=0.36, stratify=metadata[metadata[\"has_duplicate\"] == False][\"dx\"]) # 36% of the data with no duplicates is roughly 20% of the total\n",
    "data_train = pd.concat((data_train_no_dup, metadata[metadata[\"has_duplicate\"] == True]), axis=0)\n",
    "data_val, data_test = train_test_split(data_val, test_size=0.5, stratify=data_val[\"dx\"])\n",
    "print(\"Train: \" + str(data_train.shape[0] / metadata.shape[0]))\n",
    "print(\"Validation: \" + str(data_val.shape[0] / metadata.shape[0]))\n",
    "print(\"Test: \" + str(data_test.shape[0] / metadata.shape[0]))\n",
    "val_len = data_val.shape[0]\n",
    "test_len = data_test.shape[0]"
   ]
  },
  {
   "cell_type": "code",
   "execution_count": 10,
   "metadata": {},
   "outputs": [],
   "source": [
    "base_dir = \"base_dir\"\n",
    "os.mkdir(base_dir)\n",
    "\n",
    "train_dir = os.path.join(base_dir, \"image_train\")\n",
    "os.mkdir(train_dir)\n",
    "\n",
    "val_dir = os.path.join(base_dir, \"image_val\")\n",
    "os.mkdir(val_dir)\n",
    "\n",
    "test_dir = os.path.join(base_dir, \"image_test\")\n",
    "os.mkdir(test_dir)\n",
    "\n",
    "labels = list(metadata[\"dx\"].unique())\n",
    "\n",
    "for label in labels:\n",
    "    label_path_train = os.path.join(train_dir, label)\n",
    "    os.mkdir(label_path_train)\n",
    "    label_path_val = os.path.join(val_dir, label)\n",
    "    os.mkdir(label_path_val)\n",
    "    label_path_test = os.path.join(test_dir, label)\n",
    "    os.mkdir(label_path_test)"
   ]
  },
  {
   "cell_type": "code",
   "execution_count": 11,
   "metadata": {},
   "outputs": [],
   "source": [
    "image_dir = r\"C:\\Users\\PC\\Cookies\\Desktop\\image_classification\\archive (5)\\ham10000_images_part_\"\n",
    "\n",
    "for i in range(data_train.shape[0]):\n",
    "    image_name = data_train[\"image_id\"][i] + \".jpg\"\n",
    "    src_dir = os.path.join(image_dir + data_train[\"folder\"][i], image_name)\n",
    "    dst_dir = os.path.join(train_dir, data_train[\"dx\"][i], image_name)\n",
    "    shutil.copyfile(src_dir, dst_dir)\n",
    "\n",
    "for i in range(data_val.shape[0]):\n",
    "    image_name = data_val[\"image_id\"][i] + \".jpg\"\n",
    "    src_dir = os.path.join(image_dir + data_val[\"folder\"][i], image_name)\n",
    "    dst_dir = os.path.join(val_dir, data_val[\"dx\"][i], image_name)\n",
    "    shutil.copyfile(src_dir, dst_dir)\n",
    "    \n",
    "for i in range(data_test.shape[0]):\n",
    "    image_name = data_test[\"image_id\"][i] + \".jpg\"\n",
    "    src_dir = os.path.join(image_dir + data_test[\"folder\"][i], image_name)\n",
    "    dst_dir = os.path.join(test_dir, data_test[\"dx\"][i], image_name)\n",
    "    shutil.copyfile(src_dir, dst_dir)"
   ]
  },
  {
   "cell_type": "code",
   "execution_count": 12,
   "metadata": {},
   "outputs": [
    {
     "name": "stdout",
     "output_type": "stream",
     "text": [
      "bkl train: 940\n",
      "nv train: 5115\n",
      "df train: 101\n",
      "mel train: 1030\n",
      "vasc train: 119\n",
      "bcc train: 451\n",
      "akiec train: 273\n",
      "\n",
      "\n",
      "bkl val: 80\n",
      "nv val: 795\n",
      "df val: 7\n",
      "mel val: 42\n",
      "vasc val: 11\n",
      "bcc val: 31\n",
      "akiec val: 27\n",
      "\n",
      "\n",
      "bkl val: 79\n",
      "nv val: 795\n",
      "df val: 7\n",
      "mel val: 41\n",
      "vasc val: 12\n",
      "bcc val: 32\n",
      "akiec val: 27\n"
     ]
    }
   ],
   "source": [
    "for label in labels:\n",
    "    print(label + \" train: \" + str(len(os.listdir(os.path.join(train_dir, label)))))\n",
    "print(\"\\n\")\n",
    "for label in labels:\n",
    "    print(label + \" val: \" + str(len(os.listdir(os.path.join(val_dir, label)))))\n",
    "print(\"\\n\")\n",
    "for label in labels:\n",
    "    print(label + \" val: \" + str(len(os.listdir(os.path.join(test_dir, label)))))"
   ]
  },
  {
   "cell_type": "code",
   "execution_count": 13,
   "metadata": {},
   "outputs": [
    {
     "data": {
      "text/plain": [
       "0"
      ]
     },
     "execution_count": 13,
     "metadata": {},
     "output_type": "execute_result"
    }
   ],
   "source": [
    "del data_train_no_dup, metadata\n",
    "gc.collect()"
   ]
  },
  {
   "cell_type": "code",
   "execution_count": 14,
   "metadata": {},
   "outputs": [
    {
     "name": "stdout",
     "output_type": "stream",
     "text": [
      "Found 940 images belonging to 1 classes.\n",
      "Found 5115 images belonging to 1 classes.\n",
      "Found 101 images belonging to 1 classes.\n",
      "Found 1030 images belonging to 1 classes.\n",
      "Found 119 images belonging to 1 classes.\n",
      "Found 451 images belonging to 1 classes.\n",
      "Found 273 images belonging to 1 classes.\n"
     ]
    }
   ],
   "source": [
    "data_gen_param = {\n",
    "    \"rotation_range\": 180,\n",
    "    \"width_shift_range\": 0.1,\n",
    "    \"height_shift_range\": 0.1,\n",
    "    \"zoom_range\": 0.1,\n",
    "    \"horizontal_flip\": True,\n",
    "    \"vertical_flip\": True\n",
    "}\n",
    "data_generator = ImageDataGenerator(**data_gen_param)\n",
    "num_images_each_label = 6000\n",
    "\n",
    "aug_dir = os.path.join(base_dir, \"aug_dir\")\n",
    "os.mkdir(aug_dir)\n",
    "\n",
    "for label in labels:\n",
    "    \n",
    "    img_dir = os.path.join(aug_dir, \"aug_img\")\n",
    "    os.mkdir(img_dir)\n",
    "    \n",
    "    src_dir_label = os.path.join(train_dir, label)\n",
    "    for image_name in os.listdir(src_dir_label):\n",
    "        shutil.copy(os.path.join(src_dir_label, image_name), os.path.join(img_dir, image_name))\n",
    "    \n",
    "    batch_size = 32\n",
    "    data_flow_param = {\n",
    "        \"directory\": aug_dir,\n",
    "        \"color_mode\": \"rgb\",\n",
    "        \"batch_size\": batch_size,\n",
    "        \"shuffle\": True,\n",
    "        \"save_to_dir\": os.path.join(train_dir, label),\n",
    "        \"save_format\": \"jpg\"\n",
    "    }\n",
    "    aug_data_gen = data_generator.flow_from_directory(**data_flow_param)\n",
    "    \n",
    "    num_img_aug = num_images_each_label - len(os.listdir(os.path.join(train_dir, label)))\n",
    "    num_batch = int(num_img_aug / batch_size)\n",
    "    \n",
    "    for i in range(0, num_batch):\n",
    "        next(aug_data_gen)\n",
    "    \n",
    "    shutil.rmtree(img_dir)"
   ]
  },
  {
   "cell_type": "code",
   "execution_count": 15,
   "metadata": {},
   "outputs": [
    {
     "name": "stdout",
     "output_type": "stream",
     "text": [
      "bkl train: 5896\n",
      "nv train: 5979\n",
      "df train: 4747\n",
      "mel train: 5886\n",
      "vasc train: 5570\n",
      "bcc train: 5668\n",
      "akiec train: 5684\n",
      "\n",
      "\n",
      "bkl val: 80\n",
      "nv val: 795\n",
      "df val: 7\n",
      "mel val: 42\n",
      "vasc val: 11\n",
      "bcc val: 31\n",
      "akiec val: 27\n"
     ]
    }
   ],
   "source": [
    "for label in labels:\n",
    "    print(label + \" train: \" + str(len(os.listdir(os.path.join(train_dir, label)))))\n",
    "print(\"\\n\")\n",
    "for label in labels:\n",
    "    print(label + \" val: \" + str(len(os.listdir(os.path.join(val_dir, label)))))"
   ]
  },
  {
   "cell_type": "code",
   "execution_count": 16,
   "metadata": {},
   "outputs": [
    {
     "name": "stdout",
     "output_type": "stream",
     "text": [
      "Found 39430 images belonging to 7 classes.\n",
      "Found 993 images belonging to 7 classes.\n",
      "Found 993 images belonging to 7 classes.\n"
     ]
    }
   ],
   "source": [
    "IMAGE_SHAPE = (224, 224, 3)\n",
    "data_gen_param = {\n",
    "    \"samplewise_center\": True,\n",
    "    \"samplewise_std_normalization\": True,\n",
    "    \"rotation_range\": 180,\n",
    "    \"width_shift_range\": 0.1,\n",
    "    \"height_shift_range\": 0.1,\n",
    "    \"zoom_range\": 0.1,\n",
    "    \"horizontal_flip\": True,\n",
    "    \"vertical_flip\": True,\n",
    "    \"rescale\": 1.0 / 255\n",
    "}\n",
    "data_generator = ImageDataGenerator(**data_gen_param)\n",
    "\n",
    "train_flow_param = {\n",
    "    \"directory\": train_dir,\n",
    "    \"batch_size\": batch_size,\n",
    "    \"target_size\": IMAGE_SHAPE[:2],\n",
    "    \"shuffle\": True\n",
    "}\n",
    "train_flow = data_generator.flow_from_directory(**train_flow_param)\n",
    "\n",
    "val_flow_param = {\n",
    "    \"directory\": val_dir,\n",
    "    \"batch_size\": batch_size,\n",
    "    \"target_size\": IMAGE_SHAPE[:2],\n",
    "    \"shuffle\": False\n",
    "}\n",
    "val_flow = data_generator.flow_from_directory(**val_flow_param)\n",
    "\n",
    "test_flow_param = {\n",
    "    \"directory\": test_dir,\n",
    "    \"batch_size\": 1,\n",
    "    \"target_size\": IMAGE_SHAPE[:2],\n",
    "    \"shuffle\": False\n",
    "}\n",
    "test_flow = data_generator.flow_from_directory(**test_flow_param)"
   ]
  },
  {
   "cell_type": "code",
   "execution_count": 17,
   "metadata": {},
   "outputs": [],
   "source": [
    "dropout_dense = 0.1\n",
    "\n",
    "mobilenet_model = MobileNet(input_shape=IMAGE_SHAPE, include_top=False, pooling=\"max\")\n",
    "\n",
    "model = Sequential()\n",
    "model.add(mobilenet_model)\n",
    "model.add(Dropout(dropout_dense))\n",
    "model.add(BatchNormalization())\n",
    "model.add(Dense(256, activation=\"relu\"))\n",
    "model.add(Dropout(dropout_dense))\n",
    "model.add(BatchNormalization())\n",
    "model.add(Dense(7, activation=\"softmax\"))\n",
    "\n",
    "def top_2_acc(y_true, y_pred):\n",
    "    return top_k_categorical_accuracy(y_true, y_pred, k=2)\n",
    "\n",
    "def top_3_acc(y_true, y_pred):\n",
    "    return top_k_categorical_accuracy(y_true, y_pred, k=3)\n",
    "\n",
    "model.compile(Adam(0.01), loss=\"categorical_crossentropy\", metrics=[categorical_accuracy, top_2_acc, top_3_acc])"
   ]
  },
  {
   "cell_type": "code",
   "execution_count": 18,
   "metadata": {},
   "outputs": [],
   "source": [
    "model.save('model.h5')"
   ]
  },
  {
   "cell_type": "code",
   "execution_count": 19,
   "metadata": {},
   "outputs": [],
   "source": [
    "filepath = \"model.h5\"\n",
    "\n",
    "checkpoint_param = {\n",
    "    \"filepath\": filepath,\n",
    "    \"monitor\": \"val_categorical_accuracy\",\n",
    "    \"verbose\": 1,\n",
    "    \"save_best_only\": True,\n",
    "    \"mode\": \"max\"\n",
    "}\n",
    "checkpoint = ModelCheckpoint(**checkpoint_param)\n",
    "\n",
    "lr_decay_params = {\n",
    "    \"monitor\": \"val_loss\",\n",
    "    \"factor\": 0.5,\n",
    "    \"patience\": 2,\n",
    "    \"min_lr\": 1e-5\n",
    "}\n",
    "lr_decay = ReduceLROnPlateau(**lr_decay_params)\n",
    "\n",
    "early_stopping = EarlyStopping(monitor=\"val_loss\", patience=4, verbose=1)"
   ]
  },
  {
   "cell_type": "code",
   "execution_count": 20,
   "metadata": {},
   "outputs": [
    {
     "name": "stdout",
     "output_type": "stream",
     "text": [
      "Training the model...\n"
     ]
    },
    {
     "name": "stderr",
     "output_type": "stream",
     "text": [
      "C:\\Users\\PC\\AppData\\Local\\Temp\\ipykernel_16504\\2706696711.py:12: UserWarning: `Model.fit_generator` is deprecated and will be removed in a future version. Please use `Model.fit`, which supports generators.\n",
      "  history = model.fit_generator(**fit_params)\n"
     ]
    },
    {
     "name": "stdout",
     "output_type": "stream",
     "text": [
      "Epoch 1/15\n",
      "250/250 [==============================] - ETA: 0s - loss: 1.6081 - categorical_accuracy: 0.4153 - top_2_acc: 0.6166 - top_3_acc: 0.7611\n",
      "Epoch 1: val_categorical_accuracy improved from -inf to 0.04738, saving model to model.h5\n",
      "250/250 [==============================] - 1451s 6s/step - loss: 1.6081 - categorical_accuracy: 0.4153 - top_2_acc: 0.6166 - top_3_acc: 0.7611 - val_loss: 4.5726 - val_categorical_accuracy: 0.0474 - val_top_2_acc: 0.0938 - val_top_3_acc: 0.2278 - lr: 0.0100\n",
      "Epoch 2/15\n",
      "250/250 [==============================] - ETA: 0s - loss: 1.1905 - categorical_accuracy: 0.5408 - top_2_acc: 0.7590 - top_3_acc: 0.8789\n",
      "Epoch 2: val_categorical_accuracy improved from 0.04738 to 0.45161, saving model to model.h5\n",
      "250/250 [==============================] - 1459s 6s/step - loss: 1.1905 - categorical_accuracy: 0.5408 - top_2_acc: 0.7590 - top_3_acc: 0.8789 - val_loss: 1.5309 - val_categorical_accuracy: 0.4516 - val_top_2_acc: 0.6804 - val_top_3_acc: 0.8377 - lr: 0.0100\n",
      "Epoch 3/15\n",
      "250/250 [==============================] - ETA: 0s - loss: 1.0390 - categorical_accuracy: 0.6060 - top_2_acc: 0.8048 - top_3_acc: 0.9084\n",
      "Epoch 3: val_categorical_accuracy improved from 0.45161 to 0.46270, saving model to model.h5\n",
      "250/250 [==============================] - 1429s 6s/step - loss: 1.0390 - categorical_accuracy: 0.6060 - top_2_acc: 0.8048 - top_3_acc: 0.9084 - val_loss: 1.5693 - val_categorical_accuracy: 0.4627 - val_top_2_acc: 0.6976 - val_top_3_acc: 0.8266 - lr: 0.0100\n",
      "Epoch 4/15\n",
      "250/250 [==============================] - ETA: 0s - loss: 0.9568 - categorical_accuracy: 0.6390 - top_2_acc: 0.8314 - top_3_acc: 0.9244 \n",
      "Epoch 4: val_categorical_accuracy improved from 0.46270 to 0.67944, saving model to model.h5\n",
      "250/250 [==============================] - 2563s 10s/step - loss: 0.9568 - categorical_accuracy: 0.6390 - top_2_acc: 0.8314 - top_3_acc: 0.9244 - val_loss: 0.8785 - val_categorical_accuracy: 0.6794 - val_top_2_acc: 0.8216 - val_top_3_acc: 0.9093 - lr: 0.0100\n",
      "Epoch 5/15\n",
      "250/250 [==============================] - ETA: 0s - loss: 0.9195 - categorical_accuracy: 0.6553 - top_2_acc: 0.8401 - top_3_acc: 0.9299\n",
      "Epoch 5: val_categorical_accuracy improved from 0.67944 to 0.82762, saving model to model.h5\n",
      "250/250 [==============================] - 1391s 6s/step - loss: 0.9195 - categorical_accuracy: 0.6553 - top_2_acc: 0.8401 - top_3_acc: 0.9299 - val_loss: 0.5601 - val_categorical_accuracy: 0.8276 - val_top_2_acc: 0.9073 - val_top_3_acc: 0.9607 - lr: 0.0100\n",
      "Epoch 6/15\n",
      "250/250 [==============================] - ETA: 0s - loss: 0.8730 - categorical_accuracy: 0.6711 - top_2_acc: 0.8519 - top_3_acc: 0.9379\n",
      "Epoch 6: val_categorical_accuracy did not improve from 0.82762\n",
      "250/250 [==============================] - 1434s 6s/step - loss: 0.8730 - categorical_accuracy: 0.6711 - top_2_acc: 0.8519 - top_3_acc: 0.9379 - val_loss: 0.7379 - val_categorical_accuracy: 0.7349 - val_top_2_acc: 0.8417 - val_top_3_acc: 0.9425 - lr: 0.0100\n",
      "Epoch 7/15\n",
      "250/250 [==============================] - ETA: 0s - loss: 0.8699 - categorical_accuracy: 0.6797 - top_2_acc: 0.8553 - top_3_acc: 0.9380\n",
      "Epoch 7: val_categorical_accuracy did not improve from 0.82762\n",
      "250/250 [==============================] - 1414s 6s/step - loss: 0.8699 - categorical_accuracy: 0.6797 - top_2_acc: 0.8553 - top_3_acc: 0.9380 - val_loss: 0.8723 - val_categorical_accuracy: 0.6895 - val_top_2_acc: 0.8387 - val_top_3_acc: 0.9526 - lr: 0.0100\n",
      "Epoch 8/15\n",
      "250/250 [==============================] - ETA: 0s - loss: 0.7178 - categorical_accuracy: 0.7277 - top_2_acc: 0.8915 - top_3_acc: 0.9633\n",
      "Epoch 8: val_categorical_accuracy improved from 0.82762 to 0.82863, saving model to model.h5\n",
      "250/250 [==============================] - 1446s 6s/step - loss: 0.7178 - categorical_accuracy: 0.7277 - top_2_acc: 0.8915 - top_3_acc: 0.9633 - val_loss: 0.5296 - val_categorical_accuracy: 0.8286 - val_top_2_acc: 0.9173 - val_top_3_acc: 0.9657 - lr: 0.0050\n",
      "Epoch 9/15\n",
      "250/250 [==============================] - ETA: 0s - loss: 0.6842 - categorical_accuracy: 0.7363 - top_2_acc: 0.8979 - top_3_acc: 0.9693\n",
      "Epoch 9: val_categorical_accuracy improved from 0.82863 to 0.84375, saving model to model.h5\n",
      "250/250 [==============================] - 1534s 6s/step - loss: 0.6842 - categorical_accuracy: 0.7363 - top_2_acc: 0.8979 - top_3_acc: 0.9693 - val_loss: 0.4776 - val_categorical_accuracy: 0.8438 - val_top_2_acc: 0.9183 - val_top_3_acc: 0.9677 - lr: 0.0050\n",
      "Epoch 10/15\n",
      "250/250 [==============================] - ETA: 0s - loss: 0.6826 - categorical_accuracy: 0.7418 - top_2_acc: 0.8990 - top_3_acc: 0.9641\n",
      "Epoch 10: val_categorical_accuracy improved from 0.84375 to 0.85685, saving model to model.h5\n",
      "250/250 [==============================] - 1452s 6s/step - loss: 0.6826 - categorical_accuracy: 0.7418 - top_2_acc: 0.8990 - top_3_acc: 0.9641 - val_loss: 0.4579 - val_categorical_accuracy: 0.8569 - val_top_2_acc: 0.9325 - val_top_3_acc: 0.9657 - lr: 0.0050\n",
      "Epoch 11/15\n",
      "250/250 [==============================] - ETA: 0s - loss: 0.6576 - categorical_accuracy: 0.7555 - top_2_acc: 0.9078 - top_3_acc: 0.9731 \n",
      "Epoch 11: val_categorical_accuracy improved from 0.85685 to 0.86593, saving model to model.h5\n",
      "250/250 [==============================] - 4748s 19s/step - loss: 0.6576 - categorical_accuracy: 0.7555 - top_2_acc: 0.9078 - top_3_acc: 0.9731 - val_loss: 0.4545 - val_categorical_accuracy: 0.8659 - val_top_2_acc: 0.9294 - val_top_3_acc: 0.9728 - lr: 0.0050\n",
      "Epoch 12/15\n",
      "250/250 [==============================] - ETA: 0s - loss: 0.6462 - categorical_accuracy: 0.7536 - top_2_acc: 0.9121 - top_3_acc: 0.9711  \n",
      "Epoch 12: val_categorical_accuracy did not improve from 0.86593\n",
      "250/250 [==============================] - 21396s 86s/step - loss: 0.6462 - categorical_accuracy: 0.7536 - top_2_acc: 0.9121 - top_3_acc: 0.9711 - val_loss: 0.4807 - val_categorical_accuracy: 0.8569 - val_top_2_acc: 0.9224 - val_top_3_acc: 0.9657 - lr: 0.0050\n",
      "Epoch 13/15\n",
      "250/250 [==============================] - ETA: 0s - loss: 0.6569 - categorical_accuracy: 0.7578 - top_2_acc: 0.9073 - top_3_acc: 0.9673\n",
      "Epoch 13: val_categorical_accuracy did not improve from 0.86593\n",
      "250/250 [==============================] - 1391s 6s/step - loss: 0.6569 - categorical_accuracy: 0.7578 - top_2_acc: 0.9073 - top_3_acc: 0.9673 - val_loss: 0.4035 - val_categorical_accuracy: 0.8599 - val_top_2_acc: 0.9405 - val_top_3_acc: 0.9748 - lr: 0.0050\n",
      "Epoch 14/15\n",
      "250/250 [==============================] - ETA: 0s - loss: 0.6484 - categorical_accuracy: 0.7588 - top_2_acc: 0.9029 - top_3_acc: 0.9679\n",
      "Epoch 14: val_categorical_accuracy improved from 0.86593 to 0.86694, saving model to model.h5\n",
      "250/250 [==============================] - 1555s 6s/step - loss: 0.6484 - categorical_accuracy: 0.7588 - top_2_acc: 0.9029 - top_3_acc: 0.9679 - val_loss: 0.3966 - val_categorical_accuracy: 0.8669 - val_top_2_acc: 0.9395 - val_top_3_acc: 0.9778 - lr: 0.0050\n",
      "Epoch 15/15\n",
      "250/250 [==============================] - ETA: 0s - loss: 0.6359 - categorical_accuracy: 0.7582 - top_2_acc: 0.9104 - top_3_acc: 0.9711\n",
      "Epoch 15: val_categorical_accuracy did not improve from 0.86694\n",
      "250/250 [==============================] - 1885s 8s/step - loss: 0.6359 - categorical_accuracy: 0.7582 - top_2_acc: 0.9104 - top_3_acc: 0.9711 - val_loss: 0.4542 - val_categorical_accuracy: 0.8427 - val_top_2_acc: 0.9264 - val_top_3_acc: 0.9758 - lr: 0.0050\n",
      "Done!\n"
     ]
    }
   ],
   "source": [
    "fit_params = {\n",
    "    \"generator\": train_flow,\n",
    "    \"steps_per_epoch\": data_train.shape[0] // batch_size,\n",
    "    \"epochs\": 15,\n",
    "    \"verbose\": 1,\n",
    "    \"validation_data\": val_flow,\n",
    "    \"validation_steps\": data_val.shape[0] // batch_size,\n",
    "    \"callbacks\": [checkpoint, lr_decay, early_stopping]\n",
    "}\n",
    "print(\"Training the model...\")\n",
    "\n",
    "history = model.fit_generator(**fit_params)\n",
    "print(\"Done!\")"
   ]
  },
  {
   "cell_type": "code",
   "execution_count": 21,
   "metadata": {},
   "outputs": [
    {
     "name": "stderr",
     "output_type": "stream",
     "text": [
      "C:\\Users\\PC\\AppData\\Local\\Temp\\ipykernel_16504\\745493592.py:1: UserWarning: `Model.evaluate_generator` is deprecated and will be removed in a future version. Please use `Model.evaluate`, which supports generators.\n",
      "  _, val_acc, val_top_2_acc, val_top_3_acc = model.evaluate_generator(val_flow, steps=len(val_flow))\n",
      "C:\\Users\\PC\\AppData\\Local\\Temp\\ipykernel_16504\\745493592.py:3: UserWarning: `Model.predict_generator` is deprecated and will be removed in a future version. Please use `Model.predict`, which supports generators.\n",
      "  y_val_pred = np.argmax(model.predict_generator(val_flow, steps=len(val_flow)), axis=1)\n"
     ]
    },
    {
     "name": "stdout",
     "output_type": "stream",
     "text": [
      "Validation accuracy: 0.8409\n",
      "Validation top-2 accuracy: 0.9315\n",
      "Validation top-3 accuracy: 0.9789\n",
      "Validation F1 score: 0.8439\n"
     ]
    }
   ],
   "source": [
    "_, val_acc, val_top_2_acc, val_top_3_acc = model.evaluate_generator(val_flow, steps=len(val_flow))\n",
    "y_val_true = val_flow.classes\n",
    "y_val_pred = np.argmax(model.predict_generator(val_flow, steps=len(val_flow)), axis=1)\n",
    "val_f1_score = f1_score(y_val_true, y_val_pred, average=\"micro\")\n",
    "\n",
    "print(\"Validation accuracy: {:.4f}\".format(val_acc))\n",
    "print(\"Validation top-2 accuracy: {:.4f}\".format(val_top_2_acc))\n",
    "print(\"Validation top-3 accuracy: {:.4f}\".format(val_top_3_acc))\n",
    "print(\"Validation F1 score: {:.4f}\".format(val_f1_score))"
   ]
  },
  {
   "cell_type": "code",
   "execution_count": 22,
   "metadata": {},
   "outputs": [],
   "source": [
    "loss_train = history.history[\"loss\"]\n",
    "acc_train = history.history[\"categorical_accuracy\"]\n",
    "loss_val = history.history[\"val_loss\"]\n",
    "acc_val = history.history[\"val_categorical_accuracy\"]\n",
    "epochs = np.arange(1, len(loss_train) + 1)"
   ]
  },
  {
   "cell_type": "code",
   "execution_count": 23,
   "metadata": {},
   "outputs": [
    {
     "data": {
      "image/png": "[encoded data removed]",
      "text/plain": [
       "<Figure size 640x480 with 1 Axes>"
      ]
     },
     "metadata": {},
     "output_type": "display_data"
    }
   ],
   "source": [
    "plt.plot(epochs, acc_train, \"bo\", label=\"Training acc\")\n",
    "plt.plot(epochs, acc_val, \"b\", label=\"Validation acc\")\n",
    "plt.title(\"Accuracy\")\n",
    "plt.legend()\n",
    "plt.show()"
   ]
  },
  {
   "cell_type": "code",
   "execution_count": 24,
   "metadata": {},
   "outputs": [
    {
     "data": {
      "image/png": "[encoded data removed]",
      "text/plain": [
       "<Figure size 640x480 with 1 Axes>"
      ]
     },
     "metadata": {},
     "output_type": "display_data"
    }
   ],
   "source": [
    "plt.plot(epochs, loss_train, \"bo\", label=\"Training loss\")\n",
    "plt.plot(epochs, loss_val, \"b\", label=\"Validation loss\")\n",
    "plt.title(\"Losses\")\n",
    "plt.legend()\n",
    "plt.show()"
   ]
  },
  {
   "cell_type": "code",
   "execution_count": 25,
   "metadata": {},
   "outputs": [
    {
     "name": "stderr",
     "output_type": "stream",
     "text": [
      "C:\\Users\\PC\\AppData\\Local\\Temp\\ipykernel_16504\\296674130.py:2: UserWarning: `Model.predict_generator` is deprecated and will be removed in a future version. Please use `Model.predict`, which supports generators.\n",
      "  y_test_pred = np.argmax(model.predict_generator(test_flow, steps = len(test_flow)), axis = 1)\n"
     ]
    }
   ],
   "source": [
    "y_test_true = val_flow.classes\n",
    "y_test_pred = np.argmax(model.predict_generator(test_flow, steps = len(test_flow)), axis = 1)"
   ]
  },
  {
   "cell_type": "code",
   "execution_count": 26,
   "metadata": {},
   "outputs": [
    {
     "data": {
      "image/png": "[encoded data removed]",
      "text/plain": [
       "<Figure size 640x480 with 2 Axes>"
      ]
     },
     "metadata": {},
     "output_type": "display_data"
    }
   ],
   "source": [
    "conf_mat = confusion_matrix(y_test_true, y_test_pred)\n",
    "plt.imshow(conf_mat, interpolation=\"nearest\", cmap=plt.cm.Blues)\n",
    "plt.title(\"Confusion matrix\")\n",
    "plt.colorbar()\n",
    "tick_marks = np.arange(len(labels))\n",
    "plt.xticks(tick_marks, labels, rotation=45)\n",
    "plt.yticks(tick_marks, labels)\n",
    "plt.ylabel(\"y_true\")\n",
    "plt.xlabel(\"y_pred\")\n",
    "plt.tight_layout()"
   ]
  },
  {
   "cell_type": "code",
   "execution_count": 35,
   "metadata": {},
   "outputs": [],
   "source": [
    "model.save('model1.h5')"
   ]
  }
 ],
 "metadata": {
  "kernelspec": {
   "display_name": "myenv",
   "language": "python",
   "name": "python3"
  },
  "language_info": {
   "codemirror_mode": {
    "name": "ipython",
    "version": 3
   },
   "file_extension": ".py",
   "mimetype": "text/x-python",
   "name": "python",
   "nbconvert_exporter": "python",
   "pygments_lexer": "ipython3",
   "version": "3.10.8 | packaged by conda-forge | (main, Nov 24 2022, 14:07:00) [MSC v.1916 64 bit (AMD64)]"
  },
  "orig_nbformat": 4,
  "vscode": {
   "interpreter": {
    "hash": "b5df138a7e4147c629cb640e0df293e1a19be350616532fed2d54952a62a127a"
   }
  }
 },
 "nbformat": 4,
 "nbformat_minor": 2
}
